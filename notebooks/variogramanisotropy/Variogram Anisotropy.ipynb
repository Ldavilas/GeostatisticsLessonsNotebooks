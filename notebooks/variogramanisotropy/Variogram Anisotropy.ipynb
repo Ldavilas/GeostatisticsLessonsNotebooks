{
 "cells": [
  {
   "cell_type": "markdown",
   "id": "0",
   "metadata": {},
   "source": [
    "<div style=\"text-align: center;padding-top:10px;padding-bottom:10px\">\n",
    "    <a href=\"https://geostatisticslessons.com/\" target=\"_blank\" style=\"color:#93c6c7\" >\n",
    "    <img src=\"https://geostatisticslessons.com/favicon-96x96.png\" alt=\"Geostatistics Lessons Link\" style=\"width:100px\">\n",
    "    </a>\n",
    "</div>\n",
    "\n",
    "<div style=\"text-align: center\">\n",
    "    <font style=\"color:#00797C;padding-bottom:-100px\"><center><b><font size=\"+3\">Calculation and Modeling of Variogram Anisotropy</font></b></center></p>\n",
    "    <font style=\"color:#00797C;padding-bottom:50px\"><center><b><font size=\"+2\">A Companion Notebook to Geostatistics Lessons</font></b></center></p>    \n",
    "</div>\n",
    "\n",
    "<p class=\"author\" style=\"padding: 0;\"><center><b>Haoze Zhang and Ryan Barnett</b></center></p>\n",
    "<p class=\"date\" style=\"padding: 0;\"><center><b>September 8, 2025</b></center></p>\n",
    "\n",
    "---\n",
    "\n",
    "\n",
    "# Outline\n",
    "\n",
    "The following notebook provides a demonstration of the theory presented in [Calculation and Modeling of Variogram Anisotropy](https://geostatisticslessons.com/lessons/variogramanisotropy). Obtaining the correct anisotropy of the variograms is important in geological modeling. This notebook demonstrates multiple methods of inferring variogram anisotropy. Methods are applied to both dense and sparse data, which allow for clearer illustration of different concepts. The progression and aim of this notebook is further detailed:\n",
    "\n",
    "1. **Create Dense and Sparse Datasets**\n",
    "    - Simulate a gridded realization with a \"true\" underlying variogram\n",
    "    - The gridded realization is treated as the dense dataset (40,000 points)\n",
    "    - The gridded realization is randomly sampled to generate the sparse dataset (200 points)\n",
    "\n",
    "3. **Circle Variogram with Dense Data**\n",
    "    - Calculate experimental variograms in 16 evenly discretized directions in the (x,y) plane, applying narrow and wide azimuth tolerances\n",
    "    - Fit a variogram model to all 16 directions simultaneously, autofitting the angles and ranges of the principal directions; his is repeated for each of the two azimuth tolerance cases\n",
    "    - Compare the variogram models against the true variogram. It is shown that dense data permits reliable inference of the principal directions of anisotropy, but the variogram model associated with the wider azimuth tolerance (not strictly required here, but will be with sparse data) case understates the true anisotropy\n",
    "\n",
    "2. **Circle Variogram with Sparse Data**\n",
    "    - Repeat the approach described above with the dense data, though only using a necessarily wide azimuth tolerance for the experimental variogram\n",
    "    - It is demonstrated that the inferred principal directions and anisotropy are reasonable, though predictably less precise than with the dense data\n",
    "\n",
    "3. **Variogram Volume with Dense Data**\n",
    "    - Calculate a variogram volume (or map) directly on the dense data, which permits stable population of all volume bins\n",
    "    - Fit a variogram model to the variogram volume, thereby extracting the principal directions and ranges\n",
    "    - Compare the fit variogram model against the true variogram model, showing very precise reproduction\n",
    "\n",
    "3. **Variogram Volume with Sparse Data (Neutral Model)**\n",
    "    - Demonstrate that the direct calculation of a variogram volume on sparse data is not stable\n",
    "    - Generate a neutral model to smooth short scale variability and reveal underlying structure\n",
    "    - Calculate a variogram volume on the gridded neutral model, thereby populating all bins in a stable fashion with the smoothed continuity\n",
    "    - Fit a variogram model to the variogram volume of the neutral model, identifying the principal directions, though not ranges, as the neutral model is too smooth\n",
    "    - Calculate experimental variograms on the data along the identified principal directions, before fitting with with a variogram model\n",
    "    - Compare the inferred anisotropy from the circle search and variogram volume (with neutral model) approaches, where the latter is shown to provide better reproduction of the true variogram in this case\n",
    "\n",
    "3. **Moment of Inertia (MOI)**\n",
    "    - Demonstrate moment of inertia as a final method for determining principal directions of continuity\n",
    "    - Extract the principal directions from the neutral model variogram volume using the MOI tensor matrix\n",
    "    - Calculate experimental variograms along the principal directions and fit a variogram model, before comparing to earlier results \n",
    "\n",
    "The presented workflow may be extended to represent other deposits. Inline annotations with each step will note practical adjustments that may be necessary for this extension.\n",
    "\n",
    "---\n",
    "\n",
    "Import required packages:\n"
   ]
  },
  {
   "cell_type": "code",
   "execution_count": null,
   "id": "1",
   "metadata": {},
   "outputs": [],
   "source": [
    "import matplotlib.pyplot as plt\n",
    "import numpy as np\n",
    "import rmsp"
   ]
  },
  {
   "cell_type": "markdown",
   "id": "2",
   "metadata": {},
   "source": [
    "Activate rmsp and set some plotting parameters:"
   ]
  },
  {
   "cell_type": "code",
   "execution_count": null,
   "id": "3",
   "metadata": {},
   "outputs": [],
   "source": [
    "rmsp.activate()\n",
    "\n",
    "var = rmsp.Variable(\"var\").set_variable_params(clim=(-2.5, 2.5),\n",
    "                                               axis_lim=(-3.0, 3.0),\n",
    "                                               cmap='pink')\n",
    "var.clone('estimate')  # copy coloring"
   ]
  },
  {
   "cell_type": "markdown",
   "id": "4",
   "metadata": {},
   "source": [
    "--- \n",
    "# Create Dense and Sparse Datasets\n",
    "\n",
    "\n",
    "## Generate dense grid of values"
   ]
  },
  {
   "cell_type": "markdown",
   "id": "5",
   "metadata": {},
   "source": [
    "Create a 2D simulation `grid`. Concepts in this notebook extend to 3D, though 2D is used for more concise illustration."
   ]
  },
  {
   "cell_type": "code",
   "execution_count": null,
   "id": "6",
   "metadata": {},
   "outputs": [],
   "source": [
    "grid = rmsp.GridData(griddef=rmsp.GridDef(xcmin=5.0,\n",
    "                                          ycmin=5.0,\n",
    "                                          zcmin=0.5,\n",
    "                                          azimuth_deg=0.0,\n",
    "                                          nu=200,\n",
    "                                          nv=200,\n",
    "                                          nz=1,\n",
    "                                          usize=10.0,\n",
    "                                          vsize=10.0,\n",
    "                                          zsize=1.0,\n",
    "                                          blockindices='full'))\n",
    "grid.griddef.to_table()"
   ]
  },
  {
   "cell_type": "markdown",
   "id": "7",
   "metadata": {},
   "source": [
    "Initialize a \"true\" anisotropic variogram model that will be simulated over the `grid`. The major direction of continuity of the true variogram is 45° with a 4:1 anisotropy ratio."
   ]
  },
  {
   "cell_type": "code",
   "execution_count": null,
   "id": "8",
   "metadata": {},
   "outputs": [],
   "source": [
    "variomod_true = rmsp.VarioModel.from_params(num_struct=1,\n",
    "                                            nugget=0.0,\n",
    "                                            shapes='spherical',\n",
    "                                            var_contribs=1.0,\n",
    "                                            angles=[45, 0, 0],\n",
    "                                            ranges=[400, 100, 1])\n",
    "variomod_true.to_table()"
   ]
  },
  {
   "cell_type": "markdown",
   "id": "9",
   "metadata": {},
   "source": [
    "Unconditionally simulate a single realization:"
   ]
  },
  {
   "cell_type": "code",
   "execution_count": null,
   "id": "10",
   "metadata": {},
   "outputs": [],
   "source": [
    "random_seed = 42\n",
    "grid[var] = rmsp.SGSimulator().simulate(locations=grid,\n",
    "                                        search=rmsp.Search.from_vario_buffer(\n",
    "                                            variomod_true, max_comps=40),\n",
    "                                        vario=variomod_true,\n",
    "                                        reals=1,\n",
    "                                        seed=random_seed,\n",
    "                                        copy_meta=False)\n",
    "grid.head()"
   ]
  },
  {
   "cell_type": "markdown",
   "id": "11",
   "metadata": {},
   "source": [
    "Convert the grid to point values to facilitate variogram calculations. Variograms may be calculated directly on a grid (and more rapidly), but calculation on dense point values will allow for clear use of typical experimental lag/azimuth tolerances."
   ]
  },
  {
   "cell_type": "code",
   "execution_count": null,
   "id": "12",
   "metadata": {},
   "outputs": [],
   "source": [
    "griddata = grid.to_pointdata()"
   ]
  },
  {
   "cell_type": "markdown",
   "id": "13",
   "metadata": {},
   "source": [
    "## Sample the grid for a sparse dataset\n",
    "\n",
    "Randomly select 200 values from the dense grid to form the sparse dataset:"
   ]
  },
  {
   "cell_type": "code",
   "execution_count": null,
   "id": "14",
   "metadata": {},
   "outputs": [],
   "source": [
    "data = grid.sample(200, random_state=random_seed).to_pointdata()\n",
    "data.head()"
   ]
  },
  {
   "cell_type": "markdown",
   "id": "15",
   "metadata": {},
   "source": [
    "Plot the full grid (representing the dense data) and the sampled sparse data. Also overlay the underlying \"true\" variogram model as an iso-contour of the 0.95 standardized variogram value (displayed ellipse). This approach will be used for comparing anisotropy of various methods that follow.\n",
    "\n",
    "Note that the `plan_view` code and ellipse plotting parameters `ellipse_pars` are placed in a function/dictionary to permit compact re-use in susequent sections."
   ]
  },
  {
   "cell_type": "code",
   "execution_count": null,
   "id": "16",
   "metadata": {},
   "outputs": [],
   "source": [
    "vario_value = 0.95\n",
    "ellipse_pars = dict(lw=1.5, origin=grid.spatial_centroid, scale=2.0)\n",
    "\n",
    "\n",
    "def plan_view(dense=True, sparse=True, title=''):\n",
    "    fig, ax = plt.subplots(figsize=(6, 6))\n",
    "    xlim = grid.griddef.xyz_extents['x']\n",
    "    ylim = grid.griddef.xyz_extents['y']\n",
    "    if dense:\n",
    "        grid.sectionplot(var,\n",
    "                         label='Dense data',\n",
    "                         ax=ax,\n",
    "                         title=title,\n",
    "                         xlim=xlim,\n",
    "                         ylim=ylim)\n",
    "    if sparse:\n",
    "        data.sectionplot(var,\n",
    "                         edgecolors='k',\n",
    "                         label='Sparse data',\n",
    "                         ax=ax,\n",
    "                         title=title,\n",
    "                         xlim=xlim,\n",
    "                         ylim=ylim)\n",
    "    variomod_true.sectionplot_draw(ax,\n",
    "                                   vario_value=vario_value,\n",
    "                                   **ellipse_pars,\n",
    "                                   c='k',\n",
    "                                   label='True vario')\n",
    "    return ax\n",
    "\n",
    "\n",
    "ax = plan_view()\n",
    "_ = ax.legend(loc=2)"
   ]
  },
  {
   "cell_type": "markdown",
   "id": "17",
   "metadata": {},
   "source": [
    "---\n",
    "# Circle Variogram with Dense Data\n",
    "\n",
    "Experimental variograms will be calculated from the dense (gridded) data using 10° and 30° azimuth tolerances. The primary goal of this section, is to illustrate how increasing tolerances in the experimental variogram calculations (even where not necessary with dense data) serve to understate true anisotropy.\n",
    "\n",
    "An experimental variogram circle approach is used, where the variogram is calculated along 16 directions that discretize a 2D plane, before fitting a single variogram model that best fits all directions.  When dealing with 3D data a spherical search can be used rather than a circle search (as seen in the Lesson); the core idea here is similar.\n",
    "\n",
    "Begin by defining variogram lags, which align with the dense gridded spacing:"
   ]
  },
  {
   "cell_type": "code",
   "execution_count": null,
   "id": "18",
   "metadata": {},
   "outputs": [],
   "source": [
    "lags = rmsp.Lags(10, 5, 40)"
   ]
  },
  {
   "cell_type": "markdown",
   "id": "19",
   "metadata": {},
   "source": [
    "Now calculate the variogram circle using the 10° and 30° azimuth tolerances:"
   ]
  },
  {
   "cell_type": "code",
   "execution_count": null,
   "id": "20",
   "metadata": {},
   "outputs": [],
   "source": [
    "expvario_circles = {\n",
    "    azmtol:\n",
    "    rmsp.ExpVario().calculate(\n",
    "        griddata,\n",
    "        var,\n",
    "        rmsp.ExpVarioSearch.circle(lags, azmtol=azmtol, ndir=16),\n",
    "    )\n",
    "    for azmtol in [10, 30]\n",
    "}"
   ]
  },
  {
   "cell_type": "markdown",
   "id": "21",
   "metadata": {},
   "source": [
    "Plot the results, where it can be seen that anisotropy reduces using an increased tolerance (e.g., the ranges are similar in most directions but at 45° and 225° azimuth plot the ranges are shorter, which indicates a less anisotropy using larger tolerances):"
   ]
  },
  {
   "cell_type": "code",
   "execution_count": null,
   "id": "22",
   "metadata": {},
   "outputs": [],
   "source": [
    "fig, axes = expvario_circles[10].gridplot(figsize=(9, 5),\n",
    "                                          label='10° tolerance')\n",
    "_ = expvario_circles[30].gridplot(axes=axes, c='C1', label='30° tolerance')\n",
    "_ = axes[-1].legend(loc=1)"
   ]
  },
  {
   "cell_type": "markdown",
   "id": "23",
   "metadata": {},
   "source": [
    "Fit the variogram model to the 16 directions. In this process, the auto fitting algorithm will determine the major orientation of anisotropy (`angle1`) while the other angles are fixed (no inclination or tilt in with two dimensional data). Some constraints are applied here, yielding a semi-automatic variogram fit: \n",
    "- Minor direction has 1m of range (not required but emphasizing 2D data)\n",
    "- `angle2` and `angle3` are  0 (only azimuth is needed in 2D)\n",
    "- `order_ranges=True` to enforce `range1`>`range2`>`range3`\n",
    "  \n",
    "The fitting parameters are set in a dictionary for re-use. The auto fitted model may not appear correctly fit to any one particular direction, however the fitting error is minimized across all directions collectively."
   ]
  },
  {
   "cell_type": "code",
   "execution_count": null,
   "id": "24",
   "metadata": {},
   "outputs": [],
   "source": [
    "fitpars = dict(num_struct=1,\n",
    "               shapes=\"spherical\",\n",
    "               nugget=0.0,\n",
    "               range3=1.0,\n",
    "               angle2=0.0,\n",
    "               angle3=0.0,\n",
    "               order_ranges=True)\n",
    "\n",
    "variomod_circles = {}\n",
    "for azmtol in expvario_circles:\n",
    "    variomod_circles[azmtol] = rmsp.VarioModel.fit_experimental(\n",
    "        expvario_circles[azmtol], **fitpars)\n",
    "    print(f'Azimuth tolerance = {azmtol}°')\n",
    "    display(variomod_circles[azmtol].to_table())"
   ]
  },
  {
   "cell_type": "markdown",
   "id": "25",
   "metadata": {},
   "source": [
    "Observe in the tables above, that the fit `angle1` is very near to the known underlying true major azimuth of 45°. The Range 1 - Range 2 anisotropy is shown to significantly decrease with increasing azimuth tolerance in the experimental direction.\n",
    "\n",
    "Plot all experimental variograms (in all directions) and the  fitted model, to ensure appropriate fitting:"
   ]
  },
  {
   "cell_type": "code",
   "execution_count": null,
   "id": "26",
   "metadata": {},
   "outputs": [],
   "source": [
    "fig, axes = expvario_circles[10].gridplot(figsize=(9, 5),\n",
    "                                          ms=0.5,\n",
    "                                          model=variomod_circles[10],\n",
    "                                          model_kws={'c': 'C0'},\n",
    "                                          label='10° tolerance')\n",
    "_ = expvario_circles[30].gridplot(axes=axes,\n",
    "                                  c='C1',\n",
    "                                  ms=0.5,\n",
    "                                  model=variomod_circles[30],\n",
    "                                  label='30° tolerance')\n",
    "_ = axes[-1].legend(loc=1)"
   ]
  },
  {
   "cell_type": "markdown",
   "id": "27",
   "metadata": {},
   "source": [
    "Continuing to utilize the variogram iso-contour ellipse approach, visualize the orientation and anisotropy of the fit variogram models against the true underlying model. The inferred orientation is confirmed to be precise, when based on experimental variograms that are reliably informed by the gridded data. The model that is based 10° azimuth tolerance is shown to reproduce the true anisotropy, whereas the 30° tolerance is shown to understate the true anisotropy."
   ]
  },
  {
   "cell_type": "code",
   "execution_count": null,
   "id": "28",
   "metadata": {},
   "outputs": [],
   "source": [
    "ax = plan_view(sparse=False)\n",
    "for azmtol, c in zip(variomod_circles, ['C0', 'C1']):\n",
    "    variomod_circles[azmtol].sectionplot_draw(ax,\n",
    "                                              vario_value=vario_value,\n",
    "                                              **ellipse_pars,\n",
    "                                              c=c,\n",
    "                                              label=f'Azm tol = {azmtol}')\n",
    "\n",
    "_ = ax.legend(loc=2)"
   ]
  },
  {
   "cell_type": "markdown",
   "id": "29",
   "metadata": {},
   "source": [
    "---\n",
    "# Circle Variogram with Sparse Data"
   ]
  },
  {
   "cell_type": "markdown",
   "id": "30",
   "metadata": {},
   "source": [
    "Apply the same approach as the preceding section, but utilizing the sparse sampled data.\n",
    "\n",
    "Begin by defining variogram lags that are necessarily wider based on the sparse sample spacing:"
   ]
  },
  {
   "cell_type": "code",
   "execution_count": null,
   "id": "31",
   "metadata": {},
   "outputs": [],
   "source": [
    "lags = rmsp.Lags(50, 35, 10)\n",
    "lags"
   ]
  },
  {
   "cell_type": "markdown",
   "id": "32",
   "metadata": {},
   "source": [
    "Now calculate the variogram circle using 30° tolerances, which was found to be necessary for stable results with the sparse data."
   ]
  },
  {
   "cell_type": "code",
   "execution_count": null,
   "id": "33",
   "metadata": {},
   "outputs": [],
   "source": [
    "search_circle = rmsp.ExpVarioSearch.circle(lags, azmtol=30, ndir=16)\n",
    "expvario_circle = rmsp.ExpVario().calculate(data, var, search_circle)\n",
    "_ = expvario_circle.gridplot(figsize=(9, 5))"
   ]
  },
  {
   "cell_type": "markdown",
   "id": "34",
   "metadata": {},
   "source": [
    "Fit the variogram model to the 16 directions, applying the same fitting constraints that were detailed in the last section:"
   ]
  },
  {
   "cell_type": "code",
   "execution_count": null,
   "id": "35",
   "metadata": {},
   "outputs": [],
   "source": [
    "variomod_circle = rmsp.VarioModel.fit_experimental(expvario_circle, **fitpars)\n",
    "variomod_circle.to_table()"
   ]
  },
  {
   "cell_type": "markdown",
   "id": "36",
   "metadata": {},
   "source": [
    "Observe in the table above, that the fit `angle1` is ~11° from the known underlying true major azimuth of 45°, if not closely matching due to the 200 sample data that the experimental variogram is based on."
   ]
  },
  {
   "cell_type": "code",
   "execution_count": null,
   "id": "37",
   "metadata": {},
   "outputs": [],
   "source": [
    "_ = expvario_circle.gridplot(model=variomod_circle, figsize=(9, 5))"
   ]
  },
  {
   "cell_type": "markdown",
   "id": "38",
   "metadata": {},
   "source": [
    "Visualize the orientation and anisotropy of the fit variogram model against the true underlying model. The inferred orientation and anisotropy is shown to be reasonable if not precise, which results from relatively sparse sample data and experimental tolerances."
   ]
  },
  {
   "cell_type": "code",
   "execution_count": null,
   "id": "39",
   "metadata": {},
   "outputs": [],
   "source": [
    "ax = plan_view(dense=False)\n",
    "variomod_circle.sectionplot_draw(ax,\n",
    "                                 vario_value=vario_value,\n",
    "                                 **ellipse_pars,\n",
    "                                 c='C1',\n",
    "                                 label='Circle vario')\n",
    "_ = ax.legend(loc=2)"
   ]
  },
  {
   "cell_type": "markdown",
   "id": "40",
   "metadata": {},
   "source": [
    "---\n",
    "# Variogram Volume with Dense Data\n",
    "\n",
    "Calculate the variogram volume using the dense gridded values. Unlike with sparse data in the next section, there is no need for a neutral model here, as the dense data reliably supports all variogram volume bins."
   ]
  },
  {
   "cell_type": "code",
   "execution_count": null,
   "id": "41",
   "metadata": {},
   "outputs": [],
   "source": [
    "expvario_grid = rmsp.ExpVario().calculate_volume(\n",
    "    griddata,\n",
    "    var,\n",
    "    rmsp.ExpVarioVolume([50, 50, 1],\n",
    "                        [10, 10, 1]),  # Ten lags of 50m in x and y\n",
    ")"
   ]
  },
  {
   "cell_type": "markdown",
   "id": "42",
   "metadata": {},
   "source": [
    "Fit a variogram model to the variogram volume, using the same fitting parameters that were applied with the directional variograms (e.g. Angle 1 unconstrainted, but Angles 2 and 3 constrained):"
   ]
  },
  {
   "cell_type": "code",
   "execution_count": null,
   "id": "43",
   "metadata": {},
   "outputs": [],
   "source": [
    "variomod_grid = rmsp.VarioModel.fit_experimental(expvario_grid, **fitpars)\n",
    "variomod_grid.to_table()"
   ]
  },
  {
   "cell_type": "markdown",
   "id": "44",
   "metadata": {},
   "source": [
    "The model fit above is very close to the true known parameters. Plot the variogram volume and the model anisotropy ellipse, ensuring a reasonable fit:"
   ]
  },
  {
   "cell_type": "code",
   "execution_count": null,
   "id": "45",
   "metadata": {},
   "outputs": [],
   "source": [
    "ax = expvario_grid.sectionplot()[1]\n",
    "_ = variomod_grid.sectionplot_draw(ax, vario_value=vario_value, c='C0', lw=2)"
   ]
  },
  {
   "cell_type": "markdown",
   "id": "46",
   "metadata": {},
   "source": [
    "Plot the variogram volume model ellipse against that of the true variogram and underlying dense data. Observe the extremely close reproduction, as is expected when based on dense data:"
   ]
  },
  {
   "cell_type": "code",
   "execution_count": null,
   "id": "47",
   "metadata": {},
   "outputs": [],
   "source": [
    "ax = plan_view(sparse=False)\n",
    "variomod_grid.sectionplot_draw(ax,\n",
    "                               vario_value=vario_value,\n",
    "                               **ellipse_pars,\n",
    "                               c='C0',\n",
    "                               label='Vario volume')\n",
    "_ = ax.legend(loc=2)"
   ]
  },
  {
   "cell_type": "markdown",
   "id": "48",
   "metadata": {},
   "source": [
    "---\n",
    "# Variogram Volume with Sparse Data (Neutral Model)\n",
    "\n",
    "\n",
    "## Issue with direct variogram volume calculation\n",
    "Unlike the preceding section with dense data, direct calculation of a variogram volume with sparse data yields unstable results, as there is not sufficient data informing each 2D bin. This is shown below:"
   ]
  },
  {
   "cell_type": "code",
   "execution_count": null,
   "id": "49",
   "metadata": {},
   "outputs": [],
   "source": [
    "expvario_sparse = rmsp.ExpVario().calculate_volume(\n",
    "    data,\n",
    "    var,\n",
    "    rmsp.ExpVarioVolume([50, 50, 1],\n",
    "                        [10, 10, 1]),  # Ten lags of 50m in x and y\n",
    ")\n",
    "_ = expvario_sparse.sectionplot()"
   ]
  },
  {
   "cell_type": "markdown",
   "id": "50",
   "metadata": {},
   "source": [
    "## Neutral model\n",
    "\n",
    "To obtain the principal angles from a variogram volume with sparse data, a neutral model is first created using a high nugget effect and large isotropic range. When input to kriging, this will filter high-frequency noise and reveal longer range, artifact free, features of the data. "
   ]
  },
  {
   "cell_type": "code",
   "execution_count": null,
   "id": "51",
   "metadata": {},
   "outputs": [],
   "source": [
    "vario_smooth = rmsp.VarioModel.from_params(num_struct=1,\n",
    "                                           nugget=0.3,\n",
    "                                           shapes='spherical',\n",
    "                                           var_contribs=0.7,\n",
    "                                           angles=[0, 0, 0],\n",
    "                                           ranges=[500, 500, 1])\n",
    "vario_smooth"
   ]
  },
  {
   "cell_type": "markdown",
   "id": "52",
   "metadata": {},
   "source": [
    "\n",
    "Dual kriging (no search parameters required) is used for speed, and recommended in cases with less than 5000 data. A restricted but large search (100+ data) is recommended with greater than 5000 data."
   ]
  },
  {
   "cell_type": "code",
   "execution_count": null,
   "id": "53",
   "metadata": {},
   "outputs": [],
   "source": [
    "krige = rmsp.KrigeEstimator(\"dual\", vario_smooth, num_discret=[3, 3, 1])\n",
    "grid[\"estimate\"] = krige.estimate(grid, data, var.col)\n",
    "_ = grid.sectionplot('estimate')"
   ]
  },
  {
   "cell_type": "markdown",
   "id": "54",
   "metadata": {},
   "source": [
    "## Variogram volume\n",
    "\n",
    "Calculate the variogram volume using the gridded values from the neutral model:"
   ]
  },
  {
   "cell_type": "code",
   "execution_count": null,
   "id": "55",
   "metadata": {},
   "outputs": [],
   "source": [
    "expvario_neutral = rmsp.ExpVario().calculate_volume(\n",
    "    grid.to_pointdata(),\n",
    "    \"estimate\",\n",
    "    rmsp.ExpVarioVolume([50, 50, 1],\n",
    "                        [10, 10, 0]),  # Ten lags of 50m in x and y\n",
    ")"
   ]
  },
  {
   "cell_type": "markdown",
   "id": "56",
   "metadata": {},
   "source": [
    "Fit a variogram model to the neutral variogram volume using the same parameters as the previous section:"
   ]
  },
  {
   "cell_type": "code",
   "execution_count": null,
   "id": "57",
   "metadata": {},
   "outputs": [],
   "source": [
    "variomod_neutral = rmsp.VarioModel.fit_experimental(expvario_neutral,\n",
    "                                                    **fitpars)\n",
    "variomod_neutral.to_table()"
   ]
  },
  {
   "cell_type": "markdown",
   "id": "58",
   "metadata": {},
   "source": [
    "Observe in the table above, that the inferred Angle 1 is within 0.5° of the true angle1 (given symmetry of the variogram, angle1 above is equivalent to 45.5°).\n",
    "\n",
    "Plot the variogram volume and the anisotropy ellipse to check the model fit against the variogram volume of the neutral model:"
   ]
  },
  {
   "cell_type": "code",
   "execution_count": null,
   "id": "59",
   "metadata": {},
   "outputs": [],
   "source": [
    "ax = expvario_neutral.sectionplot()[1]\n",
    "_ = variomod_neutral.sectionplot_draw(ax,\n",
    "                                      vario_value=vario_value,\n",
    "                                      c='C0',\n",
    "                                      lw=2)"
   ]
  },
  {
   "cell_type": "markdown",
   "id": "60",
   "metadata": {},
   "source": [
    "Compare the anisotropy ellipse of the neutral model and true variogram model. The neutral model yields trusted principal angles, but its smoothed nature leads to less apparent anisotropy and generally longer ranges. This highlights that the variogram of the neutral model may be utilized for extracting principal directions, before calculating/fitting experimental variograms of the data along those directions (see next section), but should not otherwise be utilized directly in estimation or simulation."
   ]
  },
  {
   "cell_type": "code",
   "execution_count": null,
   "id": "61",
   "metadata": {},
   "outputs": [],
   "source": [
    "ax = plan_view(dense=False)\n",
    "variomod_neutral.sectionplot_draw(ax,\n",
    "                                  vario_value=vario_value,\n",
    "                                  **ellipse_pars,\n",
    "                                  c='C1',\n",
    "                                  label='Neutral vario volume')\n",
    "_ = ax.legend(loc=2)"
   ]
  },
  {
   "cell_type": "markdown",
   "id": "62",
   "metadata": {},
   "source": [
    "## Directional variogram along principal directions\n",
    "\n",
    "Inspect the inferred principal directions from the variogram model that was fit to the neutral model. These directions would be used for subsequent directional experimental variogram calculation with the data."
   ]
  },
  {
   "cell_type": "code",
   "execution_count": null,
   "id": "63",
   "metadata": {},
   "outputs": [],
   "source": [
    "principals = variomod_neutral.get_principals()\n",
    "principals"
   ]
  },
  {
   "cell_type": "markdown",
   "id": "64",
   "metadata": {},
   "source": [
    "Calculate experimental variograms along the principal directions (other than the 3rd one as 2D). Note that slightly wider lag tolerances are used here, relative to the circle search, based on observed stability along these particular angles."
   ]
  },
  {
   "cell_type": "code",
   "execution_count": null,
   "id": "65",
   "metadata": {},
   "outputs": [],
   "source": [
    "lags = rmsp.Lags(50, 35, 10)\n",
    "searches = [\n",
    "    rmsp.ExpVarioSearch(p['azm'], 0, lags, azmtol=30) for p in principals[:2]\n",
    "]\n",
    "expvario_princ = rmsp.ExpVario().calculate(data, var, searches)"
   ]
  },
  {
   "cell_type": "markdown",
   "id": "66",
   "metadata": {},
   "source": [
    "Fit the variogram model, fixing angle1 to follow the inferred first principal direction:"
   ]
  },
  {
   "cell_type": "code",
   "execution_count": null,
   "id": "67",
   "metadata": {},
   "outputs": [],
   "source": [
    "variomod_princ = rmsp.VarioModel.fit_experimental(expvario_princ,\n",
    "                                                  **fitpars,\n",
    "                                                  angle1=principals[0]['azm'])\n",
    "variomod_princ.to_table()"
   ]
  },
  {
   "cell_type": "markdown",
   "id": "68",
   "metadata": {},
   "source": [
    "Check the model fit:"
   ]
  },
  {
   "cell_type": "code",
   "execution_count": null,
   "id": "69",
   "metadata": {},
   "outputs": [],
   "source": [
    "_ = expvario_princ.gridplot(figsize=(8, 3), model=variomod_princ)"
   ]
  },
  {
   "cell_type": "markdown",
   "id": "70",
   "metadata": {},
   "source": [
    "Inspect the modeled variogram (orange) against the true variogram (black). The anisotropy remains understated, as may be expected with the large azimuth/lag tolerance parameters that were necessary with the sparse data. Nevertheless, the principal angles derived from the neutral model are shown to be accurate, and the overall fit is a reasonable match for the true underlying continuity. The variogram model derived from the circle search is overlain (blue) to highlight its less accurate principal angles, although it may perform well in other scenarios (particularly with denser data, as shown)."
   ]
  },
  {
   "cell_type": "code",
   "execution_count": null,
   "id": "71",
   "metadata": {},
   "outputs": [],
   "source": [
    "ax = plan_view(dense=False)\n",
    "variomod_princ.sectionplot_draw(ax,\n",
    "                                vario_value=vario_value,\n",
    "                                **ellipse_pars,\n",
    "                                c='C1',\n",
    "                                label='Neutral+principal vario')\n",
    "variomod_circle.sectionplot_draw(ax,\n",
    "                                 vario_value=vario_value,\n",
    "                                 **ellipse_pars,\n",
    "                                 c='C0',\n",
    "                                 label='Circle vario')\n",
    "_ = ax.legend(loc=2)"
   ]
  },
  {
   "cell_type": "markdown",
   "id": "72",
   "metadata": {},
   "source": [
    "---\n",
    "# Moment of Inertia (MOI) Tensor\n",
    "\n",
    "The moment of inertia (MOI) tensor is the sum of the mass distribution occurring in a rigid body rotating about the axes of rotation. The principal direction of the MOI is the direction in which the rigid body is concentrated. The major direction is related to the smallest moment of inertia.\n",
    "\n",
    "This section present the MOI tensor as a final methodology for determining the principal directions of continuity. These directions are used for directional experimental variogram calculation, followed by variogram modeling. "
   ]
  },
  {
   "cell_type": "markdown",
   "id": "73",
   "metadata": {},
   "source": [
    "## Calculate MOI based principal directions\n",
    "\n",
    "Calculate the MOI tensor matrix following the formulation seen in Chapter 2 of Davila (2024), which permits specifying an inverse distance `power` for increased weighting of nearer lags.\n",
    "\n",
    "\n",
    "*Davila, L. (2024) Automatic Variogram Modeling, M.Sc. Thesis, University of Alberta:* <https://era.library.ualberta.ca/items/2e44d88c-6bf6-48b7-b619-02284f026210>"
   ]
  },
  {
   "cell_type": "code",
   "execution_count": null,
   "id": "74",
   "metadata": {},
   "outputs": [],
   "source": [
    "angles = rmsp.calc_moi_angles(expvario_neutral, sill=1.0, power=5)\n",
    "angles"
   ]
  },
  {
   "cell_type": "markdown",
   "id": "75",
   "metadata": {},
   "source": [
    "## Calculate and visualize variogram along principal directions"
   ]
  },
  {
   "cell_type": "markdown",
   "id": "76",
   "metadata": {},
   "source": [
    "Create principal directions from MOI inferred direction"
   ]
  },
  {
   "cell_type": "code",
   "execution_count": null,
   "id": "77",
   "metadata": {},
   "outputs": [],
   "source": [
    "azms = [angles[0], angles[0] - 90]\n",
    "\n",
    "lags = rmsp.Lags(50, 35, 10)\n",
    "searches = [rmsp.ExpVarioSearch(azm, 0, lags, azmtol=30) for azm in azms]\n",
    "expvario_moi = rmsp.ExpVario().calculate(data, var, searches)"
   ]
  },
  {
   "cell_type": "markdown",
   "id": "78",
   "metadata": {},
   "source": [
    "Fit variogram"
   ]
  },
  {
   "cell_type": "code",
   "execution_count": null,
   "id": "79",
   "metadata": {},
   "outputs": [],
   "source": [
    "variomod_moi = rmsp.VarioModel.fit_experimental(expvario_moi,\n",
    "                                                **fitpars, angle1=azms[0])\n",
    "variomod_moi.to_table()\n",
    "_ = expvario_moi.gridplot(figsize=(8, 3), model=variomod_moi)"
   ]
  },
  {
   "cell_type": "markdown",
   "id": "80",
   "metadata": {},
   "source": [
    "## Visually compare\n",
    "Compare inferred MOI directions (overlain model) against variogram volume of neutral model that was input to MOI:"
   ]
  },
  {
   "cell_type": "code",
   "execution_count": null,
   "id": "81",
   "metadata": {},
   "outputs": [],
   "source": [
    "ax = expvario_neutral.sectionplot()[1]\n",
    "_ = variomod_moi.sectionplot_draw(ax, vario_value=vario_value,\n",
    "                                      c='C3',\n",
    "                                      lw=2)"
   ]
  },
  {
   "cell_type": "markdown",
   "id": "82",
   "metadata": {},
   "source": [
    "Inspect visually against the circle based variogram and true variogram. The MOI approach is shown to outperform the circle based approach with sparse data. Also note, however, that that the MOI based angles underperform direct fitting of the variogram model to the neutral based variogram volume (prior section), which is case dependent (here MOI angles over influenced by distracting features along the covariance volume edges)."
   ]
  },
  {
   "cell_type": "code",
   "execution_count": null,
   "id": "83",
   "metadata": {},
   "outputs": [],
   "source": [
    "ax = plan_view(dense=False)\n",
    "variomod_moi.sectionplot_draw(ax,\n",
    "                              vario_value=vario_value,\n",
    "                              **ellipse_pars,\n",
    "                              c='C1',\n",
    "                              label='MOI vario')\n",
    "variomod_circle.sectionplot_draw(ax,\n",
    "                                 vario_value=vario_value,\n",
    "                                 **ellipse_pars,\n",
    "                                 c='C0',\n",
    "                                 label='Circle vario')\n",
    "_ = ax.legend(loc=2)"
   ]
  },
  {
   "cell_type": "markdown",
   "id": "84",
   "metadata": {},
   "source": [
    "--- \n",
    "# Closing Comments\n",
    "\n",
    "Geological formations are almost always anisotropic. The first step in variogram determination is to establish the principal directions. This notebooks demonstrates methodologies for determining principal directions of continuity and models of anisotropy from sparse data. Experimental directional variograms, neutral models, and variogram volumes are useful tools to help with this first step. After finding the principal directions, it is necessary to compute reliable directional variograms. The tolerance and apparent anisotropy must be considered carefully. Dense and sparse data were used to illustrate how large variogram tolerances may be practically necessary, but will understate the true anisotropy.\n",
    "\n",
    "---"
   ]
  },
  {
   "cell_type": "markdown",
   "id": "85",
   "metadata": {},
   "source": [
    "<footer>\n",
    "<div style=\"text-align:center\">    \n",
    "    <p style=\"text-align:center; color:#00797C\"> Partners: </p>\n",
    "    <a href=\"https://resourcemodelingsolutions.com\"><img class=\"rs\" style=\"max-width:200px;\"    src=\"https://geostatisticslessons.com/images/icons/resource_modeling_solutions_logo.png\">\n",
    "    </a>\n",
    "    <a  href=\"https://geostatisticslessons.com/termsofuse\"> <p style=\"text-align:center; color:#00797C\">  Terms of Use </p></a>\n",
    "    <a href=\"mailto:contact@resmodsol.com\"> <p style=\"text-align:center; color:#00589d\">Contact Resource Modeling Solutions about a commercial or academic license for RMSP</p> </a>\n",
    "</div>\n",
    "</footer>"
   ]
  }
 ],
 "metadata": {
  "kernelspec": {
   "display_name": "Python 3 (ipykernel)",
   "language": "python",
   "name": "python3"
  },
  "language_info": {
   "codemirror_mode": {
    "name": "ipython",
    "version": 3
   },
   "file_extension": ".py",
   "mimetype": "text/x-python",
   "name": "python",
   "nbconvert_exporter": "python",
   "pygments_lexer": "ipython3",
   "version": "3.12.5"
  },
  "toc": {
   "base_numbering": 1,
   "nav_menu": {},
   "number_sections": true,
   "sideBar": true,
   "skip_h1_title": false,
   "title_cell": "Table of Contents",
   "title_sidebar": "Contents",
   "toc_cell": false,
   "toc_position": {},
   "toc_section_display": true,
   "toc_window_display": false
  }
 },
 "nbformat": 4,
 "nbformat_minor": 5
}
